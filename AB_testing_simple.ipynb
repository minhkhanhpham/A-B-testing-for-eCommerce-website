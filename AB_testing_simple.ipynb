{
 "cells": [
  {
   "cell_type": "markdown",
   "id": "769dd95f",
   "metadata": {},
   "source": [
    "# Problem"
   ]
  },
  {
   "cell_type": "markdown",
   "id": "9fe4d77d",
   "metadata": {},
   "source": [
    "The current landing page for our eCommerce website is not converting visitors into customers as effectively as we would like. We believe that a new landing page design could potentially improve our conversion rate."
   ]
  },
  {
   "cell_type": "markdown",
   "id": "83d08463",
   "metadata": {},
   "source": [
    "# Objective "
   ]
  },
  {
   "cell_type": "markdown",
   "id": "8b0d5943",
   "metadata": {},
   "source": [
    "To determine whether a new landing page design can significantly improve the conversion rate compared to the current landing page design."
   ]
  },
  {
   "cell_type": "markdown",
   "id": "9fd82c54",
   "metadata": {},
   "source": [
    "# Metric"
   ]
  },
  {
   "cell_type": "markdown",
   "id": "2e013747",
   "metadata": {},
   "source": [
    "Conversion rate: The percentage of visitors who making a purchase on our website"
   ]
  },
  {
   "cell_type": "markdown",
   "id": "82d40aea",
   "metadata": {},
   "source": [
    "# Hypothesis"
   ]
  },
  {
   "cell_type": "markdown",
   "id": "19af821a",
   "metadata": {},
   "source": [
    "Null Hypothesis (H0): There is no statistically significant difference in conversion rate between the new landing page and the current landing page.\n",
    "\n",
    "Alternative Hypothesis (H1): The new landing page will lead to a statistically significant increase in conversion rate compared to the current landing page."
   ]
  },
  {
   "cell_type": "markdown",
   "id": "feceec39",
   "metadata": {},
   "source": [
    "## Data Preparing"
   ]
  },
  {
   "cell_type": "markdown",
   "id": "c0e72782",
   "metadata": {},
   "source": [
    "### Data Collection"
   ]
  },
  {
   "cell_type": "code",
   "execution_count": 5,
   "id": "71f47205",
   "metadata": {},
   "outputs": [],
   "source": [
    "#Import Packages\n",
    "import pandas as pd\n",
    "import numpy as np\n",
    "from scipy import stats\n",
    "from statsmodels.stats.power import NormalIndPower, TTestIndPower\n",
    "import random"
   ]
  },
  {
   "cell_type": "code",
   "execution_count": 6,
   "id": "358b15a2",
   "metadata": {},
   "outputs": [
    {
     "data": {
      "text/html": [
       "<div>\n",
       "<style scoped>\n",
       "    .dataframe tbody tr th:only-of-type {\n",
       "        vertical-align: middle;\n",
       "    }\n",
       "\n",
       "    .dataframe tbody tr th {\n",
       "        vertical-align: top;\n",
       "    }\n",
       "\n",
       "    .dataframe thead th {\n",
       "        text-align: right;\n",
       "    }\n",
       "</style>\n",
       "<table border=\"1\" class=\"dataframe\">\n",
       "  <thead>\n",
       "    <tr style=\"text-align: right;\">\n",
       "      <th></th>\n",
       "      <th>user_id</th>\n",
       "      <th>timestamp</th>\n",
       "      <th>group</th>\n",
       "      <th>landing_page</th>\n",
       "      <th>converted</th>\n",
       "    </tr>\n",
       "  </thead>\n",
       "  <tbody>\n",
       "    <tr>\n",
       "      <th>0</th>\n",
       "      <td>851104</td>\n",
       "      <td>2017-01-21 22:11:48.556739</td>\n",
       "      <td>control</td>\n",
       "      <td>old_page</td>\n",
       "      <td>0</td>\n",
       "    </tr>\n",
       "    <tr>\n",
       "      <th>1</th>\n",
       "      <td>804228</td>\n",
       "      <td>2017-01-12 08:01:45.159739</td>\n",
       "      <td>control</td>\n",
       "      <td>old_page</td>\n",
       "      <td>0</td>\n",
       "    </tr>\n",
       "    <tr>\n",
       "      <th>2</th>\n",
       "      <td>661590</td>\n",
       "      <td>2017-01-11 16:55:06.154213</td>\n",
       "      <td>treatment</td>\n",
       "      <td>new_page</td>\n",
       "      <td>0</td>\n",
       "    </tr>\n",
       "    <tr>\n",
       "      <th>3</th>\n",
       "      <td>853541</td>\n",
       "      <td>2017-01-08 18:28:03.143765</td>\n",
       "      <td>treatment</td>\n",
       "      <td>new_page</td>\n",
       "      <td>0</td>\n",
       "    </tr>\n",
       "    <tr>\n",
       "      <th>4</th>\n",
       "      <td>864975</td>\n",
       "      <td>2017-01-21 01:52:26.210827</td>\n",
       "      <td>control</td>\n",
       "      <td>old_page</td>\n",
       "      <td>1</td>\n",
       "    </tr>\n",
       "  </tbody>\n",
       "</table>\n",
       "</div>"
      ],
      "text/plain": [
       "   user_id                   timestamp      group landing_page  converted\n",
       "0   851104  2017-01-21 22:11:48.556739    control     old_page          0\n",
       "1   804228  2017-01-12 08:01:45.159739    control     old_page          0\n",
       "2   661590  2017-01-11 16:55:06.154213  treatment     new_page          0\n",
       "3   853541  2017-01-08 18:28:03.143765  treatment     new_page          0\n",
       "4   864975  2017-01-21 01:52:26.210827    control     old_page          1"
      ]
     },
     "execution_count": 6,
     "metadata": {},
     "output_type": "execute_result"
    }
   ],
   "source": [
    "#Import Data\n",
    "file_path = 'ab_data.csv'\n",
    "df = pd.read_csv(file_path)\n",
    "df.head()\n"
   ]
  },
  {
   "cell_type": "markdown",
   "id": "9a731d98",
   "metadata": {},
   "source": [
    "From the dataset, we can get some attributes that can be described as:\n",
    "\n",
    "user_id : Unique id represent each user.\n",
    "timestamp : Timestamp when the user visited the webpage.\n",
    "group : User category, control if user that given visited the old page, treatment if user visited the new page.\n",
    "landing_page : Represent which page user visit, old page or new page\n",
    "converted : Represent whether the user decided to pay for the product or not. 1 if yes, 0 if no."
   ]
  },
  {
   "cell_type": "markdown",
   "id": "b1b77aeb",
   "metadata": {},
   "source": [
    "### Data Processing"
   ]
  },
  {
   "cell_type": "code",
   "execution_count": 7,
   "id": "95b62b0d",
   "metadata": {},
   "outputs": [
    {
     "data": {
      "text/plain": [
       "(294478, 5)"
      ]
     },
     "execution_count": 7,
     "metadata": {},
     "output_type": "execute_result"
    }
   ],
   "source": [
    "df.shape"
   ]
  },
  {
   "cell_type": "code",
   "execution_count": 8,
   "id": "fabe20ee",
   "metadata": {},
   "outputs": [
    {
     "data": {
      "text/plain": [
       "user_id          int64\n",
       "timestamp       object\n",
       "group           object\n",
       "landing_page    object\n",
       "converted        int64\n",
       "dtype: object"
      ]
     },
     "execution_count": 8,
     "metadata": {},
     "output_type": "execute_result"
    }
   ],
   "source": [
    "df.dtypes"
   ]
  },
  {
   "cell_type": "code",
   "execution_count": 11,
   "id": "370d0f44",
   "metadata": {},
   "outputs": [
    {
     "data": {
      "text/plain": [
       "user_id         0\n",
       "timestamp       0\n",
       "group           0\n",
       "landing_page    0\n",
       "converted       0\n",
       "dtype: int64"
      ]
     },
     "execution_count": 11,
     "metadata": {},
     "output_type": "execute_result"
    }
   ],
   "source": [
    "df.isnull().sum()"
   ]
  },
  {
   "cell_type": "markdown",
   "id": "e7afd5db",
   "metadata": {},
   "source": [
    "There is no null value in the dataset"
   ]
  },
  {
   "cell_type": "code",
   "execution_count": 111,
   "id": "d38d9c6c",
   "metadata": {},
   "outputs": [
    {
     "name": "stdout",
     "output_type": "stream",
     "text": [
      "There are 3894 users that appear multiple times in the dataset\n"
     ]
    }
   ],
   "source": [
    "dup_user = df['user_id'].value_counts(ascending=False)\n",
    "dup_user\n",
    "multi_users = dup_id[dup_user > 1].count()\n",
    "print(f'There are {multi_users} users that appear multiple times in the dataset')"
   ]
  },
  {
   "cell_type": "code",
   "execution_count": 112,
   "id": "38cba428",
   "metadata": {},
   "outputs": [
    {
     "data": {
      "text/plain": [
       "(290584, 5)"
      ]
     },
     "execution_count": 112,
     "metadata": {},
     "output_type": "execute_result"
    }
   ],
   "source": [
    "#Remove Duplicates of User_ID\n",
    "df = df.drop_duplicates(subset=['user_id'], keep='first')\n",
    "df.shape"
   ]
  },
  {
   "cell_type": "code",
   "execution_count": 113,
   "id": "dfb51876",
   "metadata": {},
   "outputs": [],
   "source": [
    "# Check for inconsistencies data and drop them\n",
    "inconsistencies = df[(df['group'] == 'control') & (df['landing_page'] != 'old_page') |\n",
    "                       (df['group'] == 'treatment') & (df['landing_page'] != 'new_page')]\n",
    "df = df.drop(inconsistencies.index)"
   ]
  },
  {
   "cell_type": "markdown",
   "id": "f37f0889",
   "metadata": {},
   "source": [
    "# Experiment"
   ]
  },
  {
   "cell_type": "markdown",
   "id": "629210d3",
   "metadata": {},
   "source": [
    "#### Determine the Sample Size"
   ]
  },
  {
   "cell_type": "code",
   "execution_count": 15,
   "id": "b851ecb3",
   "metadata": {},
   "outputs": [],
   "source": [
    "baseline_conversion_rate = df['converted'].mean()\n",
    "minimum_detectable_effect = 0.01 \n",
    "significance_level = 0.05\n",
    "power = 0.8"
   ]
  },
  {
   "cell_type": "code",
   "execution_count": 14,
   "id": "cb2796ff",
   "metadata": {},
   "outputs": [
    {
     "name": "stdout",
     "output_type": "stream",
     "text": [
      "Sample size: 16536\n"
     ]
    }
   ],
   "source": [
    "power_analysis = NormalIndPower()\n",
    "sample_size = power_analysis.solve_power(effect_size=minimum_detectable_effect / np.sqrt(baseline_conversion_rate * (1 - baseline_conversion_rate)),\n",
    "                                         power=power,\n",
    "                                         alpha=significance_level,\n",
    "                                         ratio=1)\n",
    "sample_size = int(sample_size)\n",
    "print(f\"Sample size: {sample_size}\")"
   ]
  },
  {
   "cell_type": "markdown",
   "id": "7aa9bc8f",
   "metadata": {},
   "source": [
    "### Z-Test"
   ]
  },
  {
   "cell_type": "code",
   "execution_count": 34,
   "id": "72dde6bf",
   "metadata": {},
   "outputs": [],
   "source": [
    "# Filter the dataset to get the sample size for each group\n",
    "control_group = df[df['group'] == 'control'].sample(n=sample_size, random_state=42)\n",
    "treatment_group = df[df['group'] == 'treatment'].sample(n=sample_size, random_state=42)"
   ]
  },
  {
   "cell_type": "code",
   "execution_count": 36,
   "id": "4f55aa2b",
   "metadata": {},
   "outputs": [
    {
     "name": "stdout",
     "output_type": "stream",
     "text": [
      "Conversion Rate of Old Landing Page: 0.12747943880019352\n",
      "Conversion Rate of New Landing Page: 0.1217343976777939\n",
      "Z-score: 1.5816997193630347\n",
      "P-value: 0.11371813682186382\n"
     ]
    }
   ],
   "source": [
    "#Calculate mean and std of each group\n",
    "mean_control = control_group['converted'].mean()\n",
    "mean_treatment = treatment_group['converted'].mean()\n",
    "std_control = control_group['converted'].std()  \n",
    "std_treatment = treatment_group['converted'].std()\n",
    "n_control = len(control_group)\n",
    "n_treatment = len(treatment_group)\n",
    "\n",
    "#Calculate z-score\n",
    "se = np.sqrt((std_control**2 / n_control) + (std_treatment**2 / n_treatment))\n",
    "z_score = (mean_control - mean_treatment) / se\n",
    "\n",
    "#Calculate p-value\n",
    "p_value = 2 * (1 - stats.norm.cdf(np.abs(z_score)))  # two-sided test\n",
    "\n",
    "print(f\"Conversion Rate of Old Landing Page: {mean_control}\")\n",
    "print(f\"Conversion Rate of New Landing Page: {mean_treatment}\")\n",
    "print(f\"Z-score: {z_score}\")\n",
    "print(f\"P-value: {p_value}\")"
   ]
  },
  {
   "cell_type": "markdown",
   "id": "b4cffe2f",
   "metadata": {},
   "source": [
    "Since our p-value=0.11 is way above our =0.05, we cannot reject the null hypothesis. This means the new landing page did not perform significantly different than the old landing page. Hereafter, we'll try to check how much the conversion rate from both old and new landing page."
   ]
  },
  {
   "cell_type": "code",
   "execution_count": 45,
   "id": "8cbd22c7",
   "metadata": {},
   "outputs": [
    {
     "name": "stdout",
     "output_type": "stream",
     "text": [
      "Conversion Rate of Old Landing Page: 0.12039917935897611\n",
      "Conversion Rate of New Landing Page: 0.11891957956489856\n"
     ]
    }
   ],
   "source": [
    "conversion_rate_control = df[df['group'] == 'control']['converted'].mean()\n",
    "conversion_rate_treatment = df[df['group'] == 'treatment']['converted'].mean()\n",
    "print(f\"Conversion Rate of Old Landing Page: {conversion_rate_control}\")\n",
    "print(f\"Conversion Rate of New Landing Page: {conversion_rate_treatment}\")"
   ]
  },
  {
   "cell_type": "markdown",
   "id": "4056246d",
   "metadata": {},
   "source": [
    "# Conclusion"
   ]
  },
  {
   "cell_type": "markdown",
   "id": "be9906a8",
   "metadata": {},
   "source": [
    "Based on our A/B test results, we did not observe a statistically significant difference in conversion rates between the control and treatment groups. We can also see that the conversion rate from the new landing page is even less than the old landing page. From those insights, we can conclude that the new landing page is not improving the eCommerce conversion rate."
   ]
  }
 ],
 "metadata": {
  "kernelspec": {
   "display_name": "Python 3",
   "language": "python",
   "name": "python3"
  },
  "language_info": {
   "codemirror_mode": {
    "name": "ipython",
    "version": 3
   },
   "file_extension": ".py",
   "mimetype": "text/x-python",
   "name": "python",
   "nbconvert_exporter": "python",
   "pygments_lexer": "ipython3",
   "version": "3.8.8"
  }
 },
 "nbformat": 4,
 "nbformat_minor": 5
}
